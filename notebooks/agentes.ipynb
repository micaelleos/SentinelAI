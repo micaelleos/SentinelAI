{
 "cells": [
  {
   "cell_type": "markdown",
   "id": "2b71ad44",
   "metadata": {},
   "source": [
    "#### Search Tool"
   ]
  },
  {
   "cell_type": "code",
   "execution_count": 22,
   "id": "6cdd9d82",
   "metadata": {},
   "outputs": [],
   "source": [
    "from langchain_community.tools.tavily_search import TavilySearchResults\n",
    "TAVILY_API_KEY = \"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\"\n",
    "tool = TavilySearchResults(max_results=5,tavily_api_key=TAVILY_API_KEY, topic='news',search_depth=\"advanced\")"
   ]
  },
  {
   "cell_type": "code",
   "execution_count": 36,
   "id": "923f2ccf",
   "metadata": {},
   "outputs": [],
   "source": [
    "response = tool.invoke('notícias 2025 embraer')"
   ]
  },
  {
   "cell_type": "code",
   "execution_count": 37,
   "id": "30c0e77a",
   "metadata": {},
   "outputs": [
    {
     "data": {
      "text/plain": [
       "[{'title': 'notícias - Embraer',\n",
       "  'url': 'https://embraer.com/br/pt/noticias',\n",
       "  'content': 'Tóquio, 4 de abril de 2025 – A Embraer (NYSE: ERJ/B3: EMBR3) promove no próximo dia 8, em Tóquio, o Embraer Aircraft Finance Summit, para que financiadores',\n",
       "  'score': 0.8805613},\n",
       " {'title': 'Embraer delivered 30 new aircraft in the first quarter of 2025',\n",
       "  'url': 'https://www.aerotime.aero/articles/embraer-delivers-20-more-aircraft-in-first-quarter-of-2025-versus-1q24',\n",
       "  'content': 'On April 2, 2025, Embraer announced that it was continuing its active pursuit of industrial cooperation plans outside of Brazil.\\xa0On April 1, 2025, the company signed a Memorandum of Understanding (MoU) with Turkish Aerospace (TUSAŞ-Türk Havacılık ve Uzay Sanayii), Turkey’s state-owned aerospace company, to cooperate in the industrial and research domains.\\xa0The initiative could potentially involve the building of an assembly line for Embraer’s E2 family of commercial airliners in Turkey. [...] Embraer has released the company’s latest delivery figure for the first quarter of 2025 (January to March/1Q25) which indicates that the Brazilian planemaker is continuing to grow and increase its global reach through its range of civil and military aircraft. The announcement, made on April 2, 2025, shows that the manufacturer delivered 30 new aircraft (of all types and variants) during the first three months of 2025, a figure that represents an increase of 20% over the same period in 2024 when [...] More recently, the company has been making several announcements about new customers and new orders. In January 2025, the company announced the sale of four Tucanos to an undisclosed African customer while the Philippines orderd six of the type. In February, Embraer announced that Japan’s All Nippon Airways had ordered Embraer E-Jets for the first time, having placed an order for 20 E190-E2 aircraft including 15 firm orders and five options.\\xa0Most recently, it announced that Sween had ordered',\n",
       "  'score': 0.8775715},\n",
       " {'title': 'news - Embraer',\n",
       "  'url': 'https://embraer.com/global/en/news',\n",
       "  'content': 'Tokyo, April 4, 2025 – Embraer (NYSE: ERJ/B3: EMBR3) will host an Embraer Aircraft Finance Summit in Tokyo on April 8, 2025, offering financiers an opportunity',\n",
       "  'score': 0.8740022},\n",
       " {'title': 'Embraer - X',\n",
       "  'url': 'https://x.com/embraer/status/1907547389780742572',\n",
       "  'content': 'NOTÍCIA | A Embraer entregou 30 aeronaves no primeiro trimestre de 2025. O resultado foi 20% superior ao registrado no primeiro trimestre do',\n",
       "  'score': 0.87166095},\n",
       " {'title': 'notícias - Embraer entrega 30 aeronaves no 1o trimestre de 2025 ...',\n",
       "  'url': 'https://embraer.com/br/pt/noticias?slug=1207543-embraer-entrega-30-aeronaves-no-1o-trimestre-de-2025-20-a-mais-que-no-1t24',\n",
       "  'content': 'As estimativas da empresa prevêm entre 77 e 85 entregas na Aviação Comercial em 2025 (ponto médio 10% acima no comparativo anual), e 145 a 155',\n",
       "  'score': 0.8679453}]"
      ]
     },
     "execution_count": 37,
     "metadata": {},
     "output_type": "execute_result"
    }
   ],
   "source": [
    "response"
   ]
  },
  {
   "cell_type": "code",
   "execution_count": 42,
   "id": "086a5408",
   "metadata": {},
   "outputs": [
    {
     "name": "stdout",
     "output_type": "stream",
     "text": [
      "('On April 2, 2025, Embraer announced that it was continuing its active '\n",
      " 'pursuit of industrial cooperation plans outside of Brazil.\\xa0On April 1, '\n",
      " '2025, the company signed a Memorandum of Understanding (MoU) with Turkish '\n",
      " 'Aerospace (TUSAŞ-Türk Havacılık ve Uzay Sanayii), Turkey’s state-owned '\n",
      " 'aerospace company, to cooperate in the industrial and research domains.\\xa0'\n",
      " 'The initiative could potentially involve the building of an assembly line '\n",
      " 'for Embraer’s E2 family of commercial airliners in Turkey. [...] Embraer has '\n",
      " 'released the company’s latest delivery figure for the first quarter of 2025 '\n",
      " '(January to March/1Q25) which indicates that the Brazilian planemaker is '\n",
      " 'continuing to grow and increase its global reach through its range of civil '\n",
      " 'and military aircraft. The announcement, made on April 2, 2025, shows that '\n",
      " 'the manufacturer delivered 30 new aircraft (of all types and variants) '\n",
      " 'during the first three months of 2025, a figure that represents an increase '\n",
      " 'of 20% over the same period in 2024 when [...] More recently, the company '\n",
      " 'has been making several announcements about new customers and new orders. In '\n",
      " 'January 2025, the company announced the sale of four Tucanos to an '\n",
      " 'undisclosed African customer while the Philippines orderd six of the type. '\n",
      " 'In February, Embraer announced that Japan’s All Nippon Airways had ordered '\n",
      " 'Embraer E-Jets for the first time, having placed an order for 20 E190-E2 '\n",
      " 'aircraft including 15 firm orders and five options.\\xa0Most recently, it '\n",
      " 'announced that Sween had ordered')\n"
     ]
    }
   ],
   "source": [
    "from pprint import pprint\n",
    "pprint(response[1]['content'])"
   ]
  },
  {
   "cell_type": "code",
   "execution_count": null,
   "id": "230f5176",
   "metadata": {},
   "outputs": [
    {
     "name": "stdout",
     "output_type": "stream",
     "text": [
      "[Document(metadata={'source': 'https://www.aerotime.aero/articles/embraer-delivers-20-more-aircraft-in-first-quarter-of-2025-versus-1q24', 'title': 'Embraer delivered 30 new aircraft in the first quarter of 2025', 'description': 'Embraer has announced it delivered 30 new aircraft to customers in the first quarter of 2025, a 20% over the same period in 2024.', 'language': 'en-US'}, page_content='\\n\\n\\n\\n\\n\\n\\n\\nEmbraer delivered 30 new aircraft in the first quarter of 2025\\n\\n\\n\\n\\n\\n\\n\\n\\n\\n\\n\\n\\n\\n\\n\\n\\n\\n\\n\\n\\n\\n\\n\\n\\n\\n\\n\\n\\n\\n\\n\\n\\n\\n\\n\\n\\n\\n\\n\\n\\n\\n\\n\\n\\n\\n\\n\\n\\n\\n\\n\\n\\n\\n\\n\\n\\n\\n\\n\\n\\n\\n\\n\\n\\n\\n\\n\\n\\n\\n\\n\\n\\n\\n\\n\\n\\n\\n\\n\\n\\n\\n\\n \\n\\n\\n\\n\\n\\n\\nCivil Aviation\\n\\nAirlines\\nAircraft\\nAirport\\nCargo\\nMRO\\n\\n\\nDefense\\nExecutive Spotlight\\nBusiness Aviation\\nNewsletter signup\\nSustainability\\nTechnology\\nSpace\\nAviation Events\\nAviation Safety\\nAviation economics\\nAviation Top 10s\\nJobs\\nAviation History\\nProfile\\nVideo\\nAbout us\\nAdvertise with us\\nJoin our team\\nOur Team\\n\\n\\n\\n\\n\\n\\n\\n\\n\\n\\n\\n\\n\\n\\n\\n\\n\\n\\n\\n\\n\\n\\n \\n\\n\\n\\n\\n\\n\\n\\n\\n\\n\\n\\n\\n\\n\\n\\n \\n\\nCivil Aviation\\n\\nAirlines\\nAircraft\\nAirport\\nCargo\\nMRO\\nAviation Safety\\n\\n\\nDefense\\nVideo\\nExecutive Spotlight\\nNewsletter\\nJobs\\nAbout AeroTime\\n\\nOur Team\\nAbout us\\nAdvertise with us\\nEvents\\nCareers\\n\\n\\n \\n\\n\\n\\n\\n\\n \\n\\n\\n\\n\\n\\n\\n\\n\\n\\n\\n\\n \\n\\n\\n\\n\\n\\n\\n\\n\\n\\n\\n\\n\\n\\n\\n\\n\\n\\n\\n\\n\\n\\n\\n\\n\\n\\n\\n\\n\\n\\n\\n\\n\\n\\n\\n\\n\\n\\n\\nEmbraer delivers 20% more aircraft in first quarter of 2025 versus 1Q24 \\xa0ByLuke PetersEdited ByEmma Yates-Badley April 3, 2025, 13:33 (UTC +3)  \\n\\nAviation Manufacturing  \\n                            Embraer                        \\n\\n\\n\\n\\n\\n\\n\\n\\n\\n\\n\\n\\n\\n\\n\\n\\n\\n\\n\\n\\n\\n\\n\\n\\n\\n\\n\\n\\n\\n\\n\\n\\n\\n\\n\\nEmbraer has released the company’s latest delivery figure for the first quarter of 2025 (January to March/1Q25) which indicates that the Brazilian planemaker is continuing to grow and increase its global reach through its range of civil and military aircraft. The announcement, made on April 2, 2025, shows that the manufacturer delivered 30 new aircraft (of all types and variants) during the first three months of 2025, a figure that represents an increase of 20% over the same period in 2024 when 24 aircraft were handed over to customers.\\nBreaking the announcement down, Embraer says it delivered seven new commercial aircraft to customers in 1Q25. This figure includes four short fuselage E175 regional jets plus three of its next-generation E195-E2 aircraft. This figure is consistent with that seen in 1Q24.\\nMichael Derrer Fuchs / Shutterstock\\nIn terms of executive aviation, the planemaker said that its private jet deliveries increased year-on-year, with 23 new executive jets being delivered in 1Q25 versus 18 in 1Q24 – an increase of 28%. This figure included two Phenom 100s plus 12 larger Phenom 300s in its very light jet family. Additionally, the company delivered three Praetor 500s and six of the larger Praetor 600 midsize jets to customers, the total of nine surpassing the seven delivered in 1Q24. \\xa0\\xa0\\xa0\\nEmbraer\\nEmbraer’s Defense and Security division was not quite so active during the first quarter of 2025, with no deliveries being recorded of either its A-29 Super Tucano military training aircraft or its C-390 multi-role transport plane.\\nLooking ahead to the rest of 2025, the company has also provided forecasts for full-year deliveries of its civil and private aircraft. The manufacturer’s guidance figures show that it forecasts to deliver a total of 145-155 of all members of its private jet family range in 2025, while on the commercial aircraft front, it expects to deliver 77 to 85 airplanes to customers.\\nIn\\xa02024,\\xa0the company delivered a total of\\xa0206\\xa0aircraft,\\xa0of which\\xa073 were commercial jets\\xa0(47 E2s and 26 E1s),\\xa0130 were executive jets\\xa0(75 Phenoms and 55 Praetons) plus three C-390 Millennium\\xa0aircraft. This figure for the full year was up 14% versus the 181 aircraft delivered in 2023. Deliveries were in line with guidance for both Commercial and Executive Aviation.\\nAdditionally, in the final quarter of 2024, Embraer delivered\\xa075 jets\\xa0in total, of which\\xa031 were commercial jets\\xa0(20 E2s and 11 E1s) and\\xa044 were executive jets\\xa0(22 Phenoms and 22 Praetons.\\xa0\\nEmbraer\\nMore recently, the company has been making several announcements about new customers and new orders. In January 2025, the company announced the sale of four Tucanos to an undisclosed African customer while the Philippines orderd six of the type. In February, Embraer announced that Japan’s All Nippon Airways had ordered Embraer E-Jets for the first time, having placed an order for 20 E190-E2 aircraft including 15 firm orders and five options.\\xa0Most recently, it announced that Sween had ordered four new C-390 Millenniums. \\xa0\\nAt the end of 2024, the company had a firm order backlog to the value of $26.3 billion, the largest ever recorded by the company in its history, more than 40% higher than in December 2023.\\nOn April 2, 2025, Embraer announced that it was continuing its active pursuit of industrial cooperation plans outside of Brazil.\\xa0On April 1, 2025, the company signed a Memorandum of Understanding (MoU) with Turkish Aerospace (TUSAŞ-Türk Havacılık ve Uzay Sanayii), Turkey’s state-owned aerospace company, to cooperate in the industrial and research domains.\\xa0The initiative could potentially involve the building of an assembly line for Embraer’s E2 family of commercial airliners in Turkey.\\xa0\\n\\n\\n\\n\\n\\n\\n\\n\\n\\n \\n\\n\\n\\nRELATED\\n\\nUnited’s Embraer 175 gets FAA approval for Starlink, first flight scheduled\\n\\n\\n\\n\\n\\n\\n\\n\\n\\nEmbraer \\n\\n\\n\\n\\n\\nShare\\n\\n\\n\\n\\n\\nTweet\\n\\n\\n\\n\\n\\nShare\\n\\n\\n\\n\\n\\n\\n\\n\\n\\n\\n\\n\\n\\n\\n\\n\\nLeave a Reply Cancel replyYour email address will not be published. Required fields are marked *Comment * Name * \\nEmail \\nWebsite \\n Save my name, email, and website in this browser for the next time I comment.\\n \\n\\nΔ \\n\\n\\n\\n\\n\\n\\n\\n\\n\\n\\nLatest\\n\\n\\nDelta CEO Bastian will defer Airbus aircraft deliveries to avoid Trump tariffs\\xa0\\xa0\\nApril 10, 2025\\n\\n\\nAirbus reveals images of stunning first class experience concept for A350-1000s\\nApril 10, 2025\\n\\n\\nEmirates introduces new A380s with updated cabins to Manchester and Milan\\nApril 10, 2025\\n\\n\\nRzeszów Airport: from Ukraine’s lifeline to Poland’s rising aviation star: video\\xa0\\nApril 10, 2025\\n\\n\\nSkyDeck: Optimizing airspace and obstacle management with AI and GIS\\nApril 10, 2025\\n\\n\\n The prime job board for the aviation industry\\n\\n\\n\\n\\n \\n\\n\\n\\n\\nRelated Posts\\n\\n\\n\\n\\n\\n\\n \\n\\n\\n\\nAirbus March 2025 orders and deliveries, large undisclosed customer orders added\\n\\n\\t\\t    Airbus has revealed its order and delivery totals for March 2025, indicating that the European planemaker delivered 71…\\t\\t\\n \\n\\n\\n\\n\\n\\n\\n\\n \\n\\n\\n\\nTop 10 largest aircraft manufacturers in 2025\\n\\n\\t\\t    There are many ways to rank the largest aircraft manufacturers. We could look at the number of employees,…\\t\\t\\n \\n\\n\\n\\n\\n\\n\\n\\n \\n\\n\\n\\nBoeing in court as planemaker faces civil claim over Ethiopian B737 MAX crash\\n\\n\\t\\t    After years of legal wranglings, the Boeing Company will finally find itself in a US courtroom on April…\\t\\t\\n \\n\\n\\n\\n\\n\\n\\n\\n \\n\\n\\n\\nTextron expands Top Hawk aircraft program to mark 70 years of the Cessna Skyhawk\\n\\n\\t\\t    Textron Aviation, the US-based aerospace giant that owns a range of aircraft brands such as Bell Helicopters, Cessna,…\\t\\t\\n \\n\\n\\n\\n\\n\\n\\n\\n\\n\\n\\n\\n\\n\\n\\n\\n\\n\\n\\n\\nKeep on top of the aviation and aerospace industry\\nJoin a community of over 100 thousand subscribers who receive our daily newsletter\\n\\n\\n \\n\\n\\n\\n\\n\\n\\n\\n\\n\\n\\r\\n\\t\\t\\t\\tAeroTime\\t\\t\\t\\n\\n\\n\\n\\n\\nAbout us\\nJoin our team\\nAdvertise with us\\nTerms of use\\nPrivacy policy\\nCookie policy\\nDirect marketing terms\\nShareholder and UBO data privacy notice\\nTRUST-LINE\\nCode of ethics\\nOnboarding and Due Diligence Privacy Notice\\n \\n\\n\\n\\n\\n\\n\\n\\n\\n\\n\\n\\n\\n\\n\\n\\n\\n\\n\\n\\n\\n\\n\\n\\n\\n\\n\\n\\n\\n\\n\\n\\n\\n\\n\\n\\n\\n\\n\\n\\n\\n\\n\\n\\n\\n\\n\\n\\n\\n\\n\\n\\n\\n\\n\\n\\n\\n\\n\\n\\n\\n\\n\\n\\n\\n\\n\\n\\n\\n\\n\\n\\n')]\n"
     ]
    }
   ],
   "source": [
    "from langchain_community.document_loaders import WebBaseLoader\n",
    "\n",
    "loader = WebBaseLoader(response[1]['url'])\n",
    "text = loader.load()"
   ]
  },
  {
   "cell_type": "code",
   "execution_count": 56,
   "id": "5c877ae2",
   "metadata": {},
   "outputs": [
    {
     "data": {
      "text/plain": [
       "{'source': 'https://www.aerotime.aero/articles/embraer-delivers-20-more-aircraft-in-first-quarter-of-2025-versus-1q24',\n",
       " 'title': 'Embraer delivered 30 new aircraft in the first quarter of 2025',\n",
       " 'description': 'Embraer has announced it delivered 30 new aircraft to customers in the first quarter of 2025, a 20% over the same period in 2024.',\n",
       " 'language': 'en-US'}"
      ]
     },
     "execution_count": 56,
     "metadata": {},
     "output_type": "execute_result"
    }
   ],
   "source": [
    "text[0].metadata"
   ]
  },
  {
   "cell_type": "code",
   "execution_count": 2,
   "id": "0afc9c28",
   "metadata": {},
   "outputs": [],
   "source": [
    "from langchain_openai import ChatOpenAI\n",
    "import dotenv\n",
    "import os\n",
    "\n",
    "dotenv.load_dotenv()\n",
    "\n",
    "OPENAI_API_KEY = os.getenv('OPENAI_API_KEY')\n",
    "\n",
    "\n",
    "llm = ChatOpenAI(model_name=\"gpt-4o\", temperature=0.3,openai_api_key=OPENAI_API_KEY)"
   ]
  },
  {
   "cell_type": "code",
   "execution_count": 3,
   "id": "50ddc0bd",
   "metadata": {},
   "outputs": [],
   "source": [
    "model_with_tool = llm.bind_tools([tool])"
   ]
  },
  {
   "cell_type": "code",
   "execution_count": 4,
   "id": "bb18fc5e",
   "metadata": {},
   "outputs": [],
   "source": [
    "from pydantic import BaseModel, Field\n",
    "from typing import Literal, List\n",
    "from langchain_core.tools import tool\n",
    "from langgraph.graph import MessagesState\n",
    "from typing_extensions import Annotated, TypedDict\n",
    "from langchain_core.output_parsers import PydanticToolsParser"
   ]
  },
  {
   "cell_type": "code",
   "execution_count": null,
   "id": "67fd8c01",
   "metadata": {},
   "outputs": [],
   "source": [
    "from langchain.prompts import PromptTemplate\n",
    "from langchain_core.prompts import ChatPromptTemplate\n",
    "\n",
    "template =f\"\"\"\n",
    "Você é um assistente de IA conversacional avançado, especializado em pesquisa na web em tempo real e recuperação de informações.\n",
    "Seu objetivo é encontrar informações precisas, confiáveis e atualizadas a partir de fontes confiáveis e apresentá-las de forma clara e útil para o usuário.\n",
    "Planeje as suas ações e pense passo a passo.\n",
    "\n",
    "Você opera em um ciclo de Pensamento, Ação, PAUSA, Observação.\n",
    "Ao final do ciclo, você fornece uma Resposta concisa e bem fundamentada ao usuário.\n",
    "\n",
    "Use Pensamento para explicar seu raciocínio e o que pretende fazer em seguida.\n",
    "\n",
    "Use Ação para executar uma das ferramentas disponíveis.\n",
    "\n",
    "Após uma Ação, PAUSE e aguarde pela Observação.\n",
    "\n",
    "Observação será o resultado retornado da sua ação.\n",
    "\n",
    "Após reunir informações suficientes por meio desse ciclo, sintetize as descobertas em uma Resposta final e apresente-as com clareza.\n",
    "\n",
    "\"\"\"\n",
    "\n",
    "prompt_agent_test = ChatPromptTemplate.from_messages([\n",
    "    (\"system\", template),\n",
    "    (\"user\", \"{input}\"),\n",
    "])"
   ]
  },
  {
   "cell_type": "code",
   "execution_count": null,
   "id": "25430dec",
   "metadata": {},
   "outputs": [],
   "source": [
    "teste = prompt_agent_test | model_with_tool"
   ]
  },
  {
   "cell_type": "code",
   "execution_count": 14,
   "id": "52e8e227",
   "metadata": {},
   "outputs": [
    {
     "data": {
      "text/plain": [
       "AIMessage(content='', additional_kwargs={'tool_calls': [{'id': 'call_DvyWkkmzb8TBzpdKOAhKtXvX', 'function': {'arguments': '{\"query\":\"cotação do dólar hoje\"}', 'name': 'tavily_search_results_json'}, 'type': 'function'}], 'refusal': None}, response_metadata={'token_usage': {'completion_tokens': 23, 'prompt_tokens': 269, 'total_tokens': 292, 'completion_tokens_details': {'accepted_prediction_tokens': 0, 'audio_tokens': 0, 'reasoning_tokens': 0, 'rejected_prediction_tokens': 0}, 'prompt_tokens_details': {'audio_tokens': 0, 'cached_tokens': 0}}, 'model_name': 'gpt-4o-2024-08-06', 'system_fingerprint': 'fp_898ac29719', 'finish_reason': 'tool_calls', 'logprobs': None}, id='run-9bb20160-bb5f-4512-b08c-e4ee73a0a9f6-0', tool_calls=[{'name': 'tavily_search_results_json', 'args': {'query': 'cotação do dólar hoje'}, 'id': 'call_DvyWkkmzb8TBzpdKOAhKtXvX', 'type': 'tool_call'}], usage_metadata={'input_tokens': 269, 'output_tokens': 23, 'total_tokens': 292, 'input_token_details': {'audio': 0, 'cache_read': 0}, 'output_token_details': {'audio': 0, 'reasoning': 0}})"
      ]
     },
     "execution_count": 14,
     "metadata": {},
     "output_type": "execute_result"
    }
   ],
   "source": [
    "teste.invoke({'input':'cotação do dolar hoje'})"
   ]
  },
  {
   "cell_type": "code",
   "execution_count": 8,
   "id": "e4c07a4b",
   "metadata": {},
   "outputs": [
    {
     "data": {
      "text/plain": [
       "AIMessage(content='', additional_kwargs={'tool_calls': [{'id': 'call_W8PdAxmWUTHVCxewhC2tgF5o', 'function': {'arguments': '{\"query\":\"cotação do dólar hoje\"}', 'name': 'tavily_search_results_json'}, 'type': 'function'}], 'refusal': None}, response_metadata={'token_usage': {'completion_tokens': 23, 'prompt_tokens': 84, 'total_tokens': 107, 'completion_tokens_details': {'accepted_prediction_tokens': 0, 'audio_tokens': 0, 'reasoning_tokens': 0, 'rejected_prediction_tokens': 0}, 'prompt_tokens_details': {'audio_tokens': 0, 'cached_tokens': 0}}, 'model_name': 'gpt-4o-2024-08-06', 'system_fingerprint': 'fp_92f14e8683', 'finish_reason': 'tool_calls', 'logprobs': None}, id='run-4ba98520-b0d7-44f5-b807-d958253db0fb-0', tool_calls=[{'name': 'tavily_search_results_json', 'args': {'query': 'cotação do dólar hoje'}, 'id': 'call_W8PdAxmWUTHVCxewhC2tgF5o', 'type': 'tool_call'}], usage_metadata={'input_tokens': 84, 'output_tokens': 23, 'total_tokens': 107, 'input_token_details': {'audio': 0, 'cache_read': 0}, 'output_token_details': {'audio': 0, 'reasoning': 0}})"
      ]
     },
     "execution_count": 8,
     "metadata": {},
     "output_type": "execute_result"
    }
   ],
   "source": [
    "model_with_tool.invoke(\"cotação do dolar hoje\")"
   ]
  },
  {
   "cell_type": "code",
   "execution_count": 15,
   "id": "38bf4bfd",
   "metadata": {},
   "outputs": [],
   "source": [
    "from langgraph.graph import MessagesState\n",
    "# Inherit 'messages' key from MessagesState, which is a list of chat messages\n",
    "class AgentState(MessagesState):\n",
    "    # Final structured response from the agent\n",
    "    pass"
   ]
  },
  {
   "cell_type": "code",
   "execution_count": 16,
   "id": "52c99676",
   "metadata": {},
   "outputs": [],
   "source": [
    "from typing import Annotated\n",
    "\n",
    "from langchain_anthropic import ChatAnthropic\n",
    "from langchain_community.tools.tavily_search import TavilySearchResults\n",
    "from langchain_core.messages import BaseMessage\n",
    "from typing_extensions import TypedDict\n",
    "\n",
    "from langgraph.graph import StateGraph, START, END\n",
    "from langgraph.graph.message import add_messages\n",
    "from langgraph.prebuilt import ToolNode, tools_condition\n",
    "\n",
    "\n",
    "class State(TypedDict):\n",
    "    messages: Annotated[list, add_messages]\n"
   ]
  },
  {
   "cell_type": "code",
   "execution_count": 19,
   "id": "c15157fb",
   "metadata": {},
   "outputs": [],
   "source": [
    "prompt_agent = ChatPromptTemplate.from_messages([\n",
    "    (\"system\", template),\n",
    "    (\"placeholder\", \"{messages}\"),\n",
    "])"
   ]
  },
  {
   "cell_type": "code",
   "execution_count": 47,
   "id": "5359ddda",
   "metadata": {},
   "outputs": [],
   "source": [
    "from langgraph.graph import StateGraph, END\n",
    "from langgraph.prebuilt import ToolNode\n",
    "from langchain_core.messages import HumanMessage\n",
    "from langgraph.checkpoint.memory import MemorySaver\n",
    "memory = MemorySaver()\n",
    "\n",
    "# Define the function that calls the model\n",
    "def call_model(state: State):\n",
    "    chain = prompt_agent | model_with_tool\n",
    "    response = chain.invoke(input={\"messages\":state['messages']})\n",
    "    # We return a list, because this will get added to the existing list\n",
    "    return {\"messages\": [response]}\n",
    "\n",
    "\n",
    "# Define the function that determines whether to continue or not\n",
    "def should_continue(state: State):\n",
    "    messages = state[\"messages\"]\n",
    "    last_message = messages[-1]\n",
    "    # If there is no function call, then we respond to the user\n",
    "    if not last_message.tool_calls:\n",
    "        return END\n",
    "    # Otherwise if there is, we continue\n",
    "    else:\n",
    "        return \"continue\"\n",
    "\n",
    "\n",
    "# Define a new graph\n",
    "workflow = StateGraph(State)\n",
    "\n",
    "# Define the two nodes we will cycle between\n",
    "workflow.add_node(\"agent\", call_model)\n",
    "workflow.add_node(\"tools\", ToolNode([tool]))\n",
    "\n",
    "# Set the entrypoint as `agent`\n",
    "# This means that this node is the first one called\n",
    "workflow.set_entry_point(\"agent\")\n",
    "\n",
    "# We now add a conditional edge\n",
    "workflow.add_conditional_edges(\n",
    "    \"agent\",\n",
    "    should_continue,\n",
    "    {\n",
    "        \"continue\": \"tools\",\n",
    "        END: END,\n",
    "    },\n",
    ")\n",
    "\n",
    "workflow.add_edge(\"tools\", \"agent\")\n",
    "graph = workflow.compile(checkpointer=memory)"
   ]
  },
  {
   "cell_type": "code",
   "execution_count": null,
   "id": "84af8533",
   "metadata": {},
   "outputs": [],
   "source": [
    "from IPython.display import Image, display\n",
    "from langchain_core.runnables.graph import CurveStyle, MermaidDrawMethod, NodeStyles\n",
    "\n",
    "display(\n",
    "    Image(\n",
    "        graph.get_graph().draw_mermaid_png(\n",
    "            draw_method=MermaidDrawMethod.API,\n",
    "        )\n",
    "    )\n",
    ")"
   ]
  },
  {
   "cell_type": "code",
   "execution_count": 29,
   "id": "44880a62",
   "metadata": {},
   "outputs": [],
   "source": [
    "from IPython.display import Image, display\n",
    "\n",
    "try:\n",
    "    display(Image(graph.get_graph().draw_mermaid_png()))\n",
    "except Exception:\n",
    "    # This requires some extra dependencies and is optional\n",
    "    pass"
   ]
  },
  {
   "cell_type": "code",
   "execution_count": 48,
   "id": "1ef4c760",
   "metadata": {},
   "outputs": [],
   "source": [
    "config = {\"configurable\": {\"thread_id\": \"de8f26l4\"}}\n",
    "inputs={\"messages\":HumanMessage(\"Qual a cotação do dolar hoje?\")}"
   ]
  },
  {
   "cell_type": "code",
   "execution_count": 32,
   "id": "95fe2c4d",
   "metadata": {},
   "outputs": [],
   "source": [
    "answer = graph.invoke(input=inputs,config=config)"
   ]
  },
  {
   "cell_type": "code",
   "execution_count": 49,
   "id": "9890d663",
   "metadata": {},
   "outputs": [
    {
     "name": "stdout",
     "output_type": "stream",
     "text": [
      "================================\u001b[1m Human Message \u001b[0m=================================\n",
      "\n",
      "Qual a cotação do dolar hoje?\n",
      "==================================\u001b[1m Ai Message \u001b[0m==================================\n",
      "Tool Calls:\n",
      "  tavily_search_results_json (call_IiHhc1xtJdFKwsw0ke3zrV2a)\n",
      " Call ID: call_IiHhc1xtJdFKwsw0ke3zrV2a\n",
      "  Args:\n",
      "    query: cotação do dólar hoje\n",
      "=================================\u001b[1m Tool Message \u001b[0m=================================\n",
      "Name: tavily_search_results_json\n",
      "\n",
      "[{\"title\": \"Dólar Hoje: Cotação Comercial e Turismo. Valor e Preço!\", \"url\": \"https://dolarhoje.com/\", \"content\": \"Adicione ao Chrome\\nGráfico do histórico do dólar\\nValor do Dólar Hoje\\nA cotação do dolar hoje está R$ 5,80 (+0,76% em relação a ontem). Cotação do dólar comercial americano atualizada sempre para que você fique informado sobre o dólar e tome as melhores decisões.\\nO valor do dólar hoje é de caráter informativo.\\nSobre o dólar\\nO dólar dos Estados Unidos (US Dollar, USD, US$) é a moeda emitida pelos Estados Unidos através da Reserva Federal dos Estados Unidos. [...] Pequenas alterações no dólar podem tornar preços de produtos mais caros ou baratos tanto em lojas físicas como online. Essas alterações também podem influenciar no orçamento de viagens principalmente aos Estados Unidos.\\nSe estiver interessado em comprar produtos ou viajar, adquira o hábito de acessar sempre o DolarHoje.com para estar sempre bem informado sobre o preço do dólar do dia.\\nTabela de Valores em Dólar Convertidos em Real\\n| Dólar | Real |\\n| --- | --- |\\n| US$ 1 (um dólar) | R$ 5,80 | [...] A cotação do dólar hoje é um reflexo da economia dos principais países do mundo e também é influenciada pela situação de cada país. A economia de grandes países como a China influenciam na cotação do dólar, reservas internacionais de dólar americano mantidas pelo Banco Central, as operações do Banco Central para lidar com a alta ou baixa da moeda americana, notícias sobre a economia e política americanas e contratos de importação e exportação.\", \"score\": 0.92176014}, {\"title\": \"Dólar Hoje (USD) | Cotações - Remessa Online\", \"url\": \"https://www.remessaonline.com.br/cotacao/cotacao-dolar\", \"content\": \"Dólar hoje. A cotação do Dólar comercial hoje, 10 de abril de 2025, está em R$ 5,85 na venda, com uma variação de 0.32% em relação ao dia anterior.\", \"score\": 0.92125154}, {\"title\": \"Dólar hoje: confira a cotação do dólar comercial - Wise\", \"url\": \"https://wise.com/br/currency-converter/dolar-hoje\", \"content\": \"Dólar hoje\\nA taxa de câmbio do dólar hoje é 5,81 Real Brasileiro. A cotação comercial do dólar é sempre atualizada, para que você possa ficar informado sobre o dólar e tomar as melhores decisões.\\nQuantia\\n\\nUSD\\n\\nConverter para\\n\\nBRL\\n1,000 USD = 5,809 BRL\\nCâmbio comercial às 20:58 UTC\\nAcompanhar essa taxa de câmbioEnviar dinheiro [...] Economize ao enviar dinheiro para o exterior\\nCadastre-se hoje\\nGráfico de cotação: USD para BRL\\n1 USD = 5,80910 BRL\\n1 USD = 5,8091 BRL\\nAtualizado há alguns segundos\\nPeríodo de tempo\\n48 horas\\n1 semana\\n1 mês\\n6 meses\\n12 meses\\n5 anos\\n9 de janeiro8 de fevereiro\\nCâmbio comercialUsamos a taxa de câmbio comercial, sem margens disfarçadas para ocultar tarifas.Saiba mais\\nEsperando por uma cotação melhor? [...] |   | KRW | INR | JPY | CAD | EUR | GBP | CNY | MXN |\\n| --- | --- | --- | --- | --- | --- | --- | --- | --- |\\n| 1 KRW | 1 | 0,06 | 0,104 | 0,001 | 0,001 | 0,001 | 0,005 | 0,014 |\\n| 1 INR | 16,566 | 1 | 1,724 | 0,016 | 0,011 | 0,009 | 0,083 | 0,234 |\\n| 1 JPY | 9,608 | 0,58 | 1 | 0,009 | 0,006 | 0,005 | 0,048 | 0,136 |\\n| 1 CAD | 1.017,88 | 61,443 | 105,944 | 1 | 0,678 | 0,564 | 5,104 | 14,378 |\", \"score\": 0.8825193}]\n",
      "==================================\u001b[1m Ai Message \u001b[0m==================================\n",
      "\n",
      "A cotação do dólar hoje está variando entre R$ 5,80 e R$ 5,85. Aqui estão algumas referências:\n",
      "\n",
      "1. De acordo com o site [Dólar Hoje](https://dolarhoje.com/), o dólar está cotado a R$ 5,80.\n",
      "2. No site [Remessa Online](https://www.remessaonline.com.br/cotacao/cotacao-dolar), a cotação é de R$ 5,85.\n",
      "3. A [Wise](https://wise.com/br/currency-converter/dolar-hoje) informa que a taxa de câmbio do dólar é de R$ 5,81.\n",
      "\n",
      "Essas cotações podem variar ligeiramente dependendo da fonte e do momento da consulta.\n"
     ]
    }
   ],
   "source": [
    "events = graph.stream(\n",
    "    input=inputs,\n",
    "    config=config,\n",
    "    stream_mode=\"values\",\n",
    ")\n",
    "for event in events:\n",
    "    event[\"messages\"][-1].pretty_print()"
   ]
  }
 ],
 "metadata": {
  "kernelspec": {
   "display_name": "myenv",
   "language": "python",
   "name": "python3"
  },
  "language_info": {
   "codemirror_mode": {
    "name": "ipython",
    "version": 3
   },
   "file_extension": ".py",
   "mimetype": "text/x-python",
   "name": "python",
   "nbconvert_exporter": "python",
   "pygments_lexer": "ipython3",
   "version": "3.11.3"
  }
 },
 "nbformat": 4,
 "nbformat_minor": 5
}
