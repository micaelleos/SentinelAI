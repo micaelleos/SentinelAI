{
 "cells": [
  {
   "cell_type": "markdown",
   "id": "b23d1c55",
   "metadata": {},
   "source": [
    "### Agent 1 - Planner"
   ]
  },
  {
   "cell_type": "markdown",
   "id": "8a3fb93e",
   "metadata": {},
   "source": [
    "#### Planner Tools"
   ]
  },
  {
   "cell_type": "code",
   "execution_count": 1,
   "id": "5e0650b6",
   "metadata": {},
   "outputs": [],
   "source": [
    "from langchain_community.tools.tavily_search import TavilySearchResults\n",
    "from tavily import TavilyClient\n",
    "TAVILY_API_KEY = \"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\"\n",
    "tavily_tool = TavilySearchResults(max_results=5,tavily_api_key=TAVILY_API_KEY, topic='news',search_depth=\"advanced\")"
   ]
  },
  {
   "cell_type": "code",
   "execution_count": null,
   "id": "888250ea",
   "metadata": {},
   "outputs": [],
   "source": [
    "from langchain_core.tools import tool\n",
    "\n",
    "@tool(response_format=\"content_and_artifact\")\n",
    "def general_search_tool(query: str):\n",
    "    \"\"\"A search engine optimized for comprehensive, accurate, and trusted results. \n",
    "    Useful for when you need to answer questions about current events. \n",
    "    Input should be a search query.\"\"\"\n",
    "    client = TavilyClient(TAVILY_API_KEY)\n",
    "\n",
    "    response = client.search(query=query,search_depth='advanced',max_results=10)\n",
    "    \n",
    "    serialized = f\"Termos de busca: {query} \\n\" f\"Resultado de Busca: {response}\"\n",
    "    \n",
    "    return serialized, response\n",
    "\n",
    "tools_planner = [general_search_tool]"
   ]
  },
  {
   "cell_type": "markdown",
   "id": "ca63cb80",
   "metadata": {},
   "source": [
    "#### Agent Planner Prompt"
   ]
  },
  {
   "cell_type": "code",
   "execution_count": null,
   "id": "10b6eeca",
   "metadata": {},
   "outputs": [],
   "source": [
    "from langchain_core.prompts import ChatPromptTemplate\n",
    "from datetime import date\n",
    "\n",
    "dimensoes = \"\"\"\n",
    "1. Reputação Geral: A marca é mencionada de forma positiva, neutra ou negativa nas mídias mais relevantes? O público demonstra confiança e admiração pela empresa? A organização é lembrada espontaneamente em seu setor? Existem prêmios, rankings ou reconhecimentos que reforcem sua reputação?\n",
    "\n",
    "2. Ética e Escândalos: A empresa esteve envolvida em escândalos, denúncias ou polêmicas recentes? Como ela reagiu diante de crises públicas? Houve postura ética, transparência e responsabilidade? Existem processos judiciais, investigações ou sanções em andamento? Há histórico de práticas antiéticas ou corrupção?\n",
    "\n",
    "3. Liderança e Governança: Os principais executivos são bem avaliados pela mídia e pelo público? A gestão transmite uma imagem de competência, responsabilidade e transparência? A liderança se posiciona de forma clara e ética em temas relevantes? A estrutura de governança é sólida e segue boas práticas?\n",
    "\n",
    "4. Performance Financeira e Crescimento: A empresa tem apresentado bons resultados financeiros nos últimos períodos? Há indícios de crescimento consistente e sustentável? São realizados investimentos estratégicos relevantes? Existem sinais de solidez financeira e boa gestão de recursos?\n",
    "\n",
    "5. ESG (Ambiental, Social e Governança): A organização se posiciona de forma ativa em relação à sustentabilidade ambiental? Existem programas concretos de inclusão social, diversidade e equidade? A empresa divulga relatórios de sustentabilidade com dados verificáveis? É reconhecida por boas práticas ESG em seu setor?\n",
    "\n",
    "6. Inovação e Expansão: A empresa tem lançado inovações em produtos, serviços ou processos? Há uma adoção consistente de novas tecnologias? A organização está se expandindo para novos mercados ou segmentos de maneira estratégica? Participa de ecossistemas de inovação, como hubs, parcerias com startups ou universidades?\n",
    "\n",
    "7. Marca Empregadora e Cultura Organizacional: A empresa é considerada um bom lugar para se trabalhar? Atrai e retém talentos com facilidade? Como é a percepção do clima organizacional e da cultura interna? Existem políticas efetivas de diversidade, bem-estar e inclusão?\n",
    "\n",
    "8. Responsabilidade com Clientes e Sociedade: A empresa oferece bom atendimento e resolve reclamações com eficiência? Como é sua reputação em sites de avaliação e nas redes sociais? Promove iniciativas de impacto social relevante? Mantém uma postura ética e transparente na relação com consumidores e demais públicos?\n",
    "\"\"\" \n",
    "\n",
    "criterios = \"\"\"\n",
    "- Reputação Geral: Visão agregada sobre a marca: confiança, admiração, apoio e lembrança positiva ou negativa.\n",
    "- Ética e Escândalos: Presença ou ausência de crises, polêmicas, fraudes, denúncias ou atitudes antiéticas no presente ou no passado da empresa.\n",
    "- Liderança e Governança: Imagem pública dos executivos, qualidade da gestão, responsabilidade e transparência institucional.\n",
    "- Performance Financeira e Crescimento: Resultados econômicos, sustentabilidade financeira, crescimento e investimentos da empresa.\n",
    "- ESG (Ambiental, Social e Governança): Comprometimento com causas ambientais, sociais, diversidade e ética corporativa.\n",
    "- Inovação e Expansão: Capacidade de lançar novidades, adotar tecnologia, reinventar processos e entrar em novos mercados.\n",
    "- Marca Empregadora e Cultura: Atratividade para talentos, clima organizacional, diversidade, bem-estar e reputação interna.\n",
    "- Responsabilidade com Clientes e Sociedade: Qualidade no atendimento, relação com consumidores, respeito aos direitos do cliente e impacto social.\n",
    "\"\"\"\n",
    "\n",
    "template =f\"\"\"\n",
    "Você é um agente especialista em investigação e análise de reputação empresarial com base em notícias disponíveis na web. Seu objetivo é coletar, validar e avaliar informações relevantes que ajudem a formar um diagnóstico reputacional de uma empresa específica com base em dimensões de análise reputacional. \n",
    "Para isso, você deve usar uma abordagem estruturada, baseada em raciocínio passo a passo e iterações com uma ferramenta de busca online que retorna resumos e scores de relevância para os termos pesquisados.\n",
    "\n",
    "Sua atuação deve seguir a seguinte sequência metodológica:\n",
    " \n",
    "### Etapas da Análise de Reputação Baseada em Notícias\n",
    "\n",
    "Passo 1 - Compreensão do Caso e Definição do Objetivo:\n",
    "Ao receber o nome da empresa, o foco da análise será baseada nas seguintes dimensões:\n",
    "\n",
    "### Dimensões de Análsie\n",
    "{dimensoes}\n",
    "\n",
    "Essa etapa guiará a formulação dos termos de pesquisa e as decisões sobre quais informações são relevantes.\n",
    "\n",
    "Passo 2 - Pesquisa Inicial: Conhecimento da Empresa  \n",
    "Antes de aprofundar a investigação, realize buscas com termos gerais sobre a empresa para compreender seu perfil, setor de atuação, produtos, liderança e histórico. Essas informações são essenciais para planejar termos mais estratégicos nas próximas etapas.\n",
    "\n",
    "Passo 3 - Planejamento da Pesquisa - Pense passo a passo:\n",
    "A partir do entendimento da empresa, do objetivo da investigação e de pesquisa, inicie a coleta de informações relevantes utilizando o seguinte modelo:\n",
    "\n",
    "- Objetivo da Pesquisa: Declare claramente o que deseja descobrir com base em cada dimensão de análise.\n",
    "- Pergunta: Formule algumas (mais de uma) pergunta investigativa relacionada ao objetivo (ex: “A empresa esteve envolvida em escândalos financeiros recentes?”).\n",
    "- Raciocínio: Com base no objetivo e no conhecimento atual sobre a empresa, planeje termos de busca relevantes. Pense sobre quais palavras-chave aumentam a chance de encontrar a resposta certa. Adicione nos termos de pesquisa os veículos de imprensa relevantes.\n",
    "- Ação: Escolha a ferramenta de busca online. Você tem a disposição a seguinte ferramenta {\",\".join([str(i.name) for i in tools_planner])}\n",
    "- Entrada da Ação: Especifique o termo de pesquisa que será usado na ferramenta.\n",
    "- Observação: Analise o resultado retornado. \n",
    "- Resposta Inicial: Interprete o que foi encontrado e avalie se a informação é útil, inconclusiva ou irrelevante. Decida se a pesquisa deve seguir na mesma linha, ramificar para novos termos ou recuar para reformular a pergunta.\n",
    "\n",
    "Passo 4 - Execução Iterativa de Pesquisas:\n",
    "Repita o ciclo de pesquisa quantas vezes forem necessárias até reunir um número suficiente de informações relevantes para formar um panorama reputacional claro com base nas dimensões definidas.\n",
    "Estruture o planejamento de pesquisa em um formato estruturado com dimensão, comentário, raciocício de pesquisa para que um outro especialista possa fazer uma análise mais apurada.  \n",
    "Lembresse deve haver pesquisa que englobem todos as dimensões de análsie reputacional.\n",
    "\n",
    "Passo 5 - Ao finalizar o planejamento de pesquisa com todo o racional (Objetivo da Pesquisa, Pergunta, Raciocínio, Termos de Pesquisa), repasse o plano de pesquisa e o resumo da empresa ao agente pesquisador.\n",
    "\n",
    "---\n",
    "\n",
    "IMPORTANTE:\n",
    "- Durante toda a análise, pense criticamente sobre as fontes e evite conclusões precipitadas. \n",
    "- Sempre que possível, relacione novas informações ao que já se sabe sobre a empresa. E lembre-se: a repetição de padrões entre diferentes fontes fortalece a confiabilidade da informação.\n",
    "- A data de hoje é {str(date.today().isoformat())}\n",
    "- Os termos de pesquisa precisam ser sempre escritos no idioma português\n",
    "- O conjunto de resultados de pesquisas deve englobar todos os critérios definidos.\n",
    "- Você deve pensar passo a passo.\n",
    "\n",
    "### Exemplo de intereação: Resumo da Pesquisa Inicial sobre a Vale\n",
    "\n",
    "Empresa: Vale\n",
    "\n",
    "### Passo 1 - Compreensão do Caso e Definição do Objetivo:\n",
    "A Vale é uma empresa de mineração brasileira, uma das maiores do mundo, conhecida principalmente pela extração de minério de ferro. Com base nas dimensões de análise reputacional, o objetivo é investigar as seguintes áreas:\n",
    "\n",
    "1. **Reputação Geral**\n",
    "2. **Ética e Escândalos**\n",
    "3. **Liderança e Governança**\n",
    "4. **Performance Financeira e Crescimento**\n",
    "5. **ESG (Ambiental, Social e Governança)**\n",
    "6. **Inovação e Expansão**\n",
    "7. **Marca Empregadora e Cultura Organizacional**\n",
    "8. **Responsabilidade com Clientes e Sociedade**\n",
    "\n",
    "### Passo 2 - Pesquisa Inicial: Conhecimento da Empresa\n",
    "\n",
    "Antes de aprofundar a investigação, farei uma pesquisa inicial para entender melhor o perfil atual da Vale, seu setor de atuação, produtos, liderança e histórico recente.\n",
    "Vou realizar uma pesquisa geral sobre a Vale para obter uma visão atualizada da empresa. Após a execução de pesquisas iniciais identifiquei as seguites informações da empresa:\n",
    "\n",
    "1. Identidade Corporativa: A Vale é uma das maiores mineradoras do mundo, com sede no Brasil, atuando nos setores de mineração, logística e energia. É especialmente reconhecida por sua produção de minério de ferro e níquel. A empresa é considerada um dos pilares do setor extrativista global, tendo papel estratégico na cadeia de suprimentos de aço e tecnologia.\n",
    "\n",
    "Com essas informações iniciais, podemos planejar pesquisas mais específicas para cada dimensão de análise reputacional. Vou prosseguir para o planejamento da pesquisa detalhada para cada dimensão.\n",
    "### Passo 3 - Planejamento da Pesquisa - Pense passo a passo:\n",
    "\n",
    "Com base nas informações iniciais, vamos formular perguntas investigativas e planejar termos de busca para cada dimensão de análise reputacional.\n",
    "\n",
    "#### 1. Reputação Geral\n",
    "- **Objetivo da Pesquisa**: Avaliar como a Vale é mencionada na mídia e se há reconhecimento positivo.\n",
    "- **Pergunta**: A Vale é mencionada de forma positiva na mídia em 2025?\n",
    "- **Raciocínio**: Procurar menções positivas ou prêmios recentes.\n",
    "- **Termos de Pesquisa**: \"Vale reconhecimento 2025\", \"Vale prêmios 2025\".\n",
    "\n",
    "#### 2. Ética e Escândalos\n",
    "- **Objetivo da Pesquisa**: Identificar envolvimentos em escândalos ou denúncias recentes.\n",
    "- **Pergunta**: A Vale esteve envolvida em escândalos ou denúncias em 2025 ou no passado?\n",
    "- **Raciocínio**: Buscar notícias sobre escândalos ou investigações.\n",
    "- **Termos de Pesquisa**: \"Vale escândalo 2025\", \"Vale denúncia 2025\", \"Vale escândalo histórico\"\n",
    "\n",
    "#### 3. Liderança e Governança\n",
    "- **Objetivo da Pesquisa**: Avaliar a percepção da liderança e práticas de governança.\n",
    "- **Pergunta**: Como a liderança da Vale é percebida em 2025?\n",
    "- **Raciocínio**: Procurar avaliações sobre a liderança e práticas de governança.\n",
    "- **Termos de Pesquisa**: \"Liderança Vale 2025\", \"Governança Vale 2025\".\n",
    "\n",
    "#### 4. Performance Financeira e Crescimento\n",
    "- **Objetivo da Pesquisa**: Verificar o desempenho financeiro recente.\n",
    "- **Pergunta**: A Vale apresentou bons resultados financeiros em 2025?\n",
    "- **Raciocínio**: Buscar relatórios financeiros e análises de desempenho.\n",
    "- **Termos de Pesquisa**: \"Resultados financeiros Vale 2025\", \"Crescimento Vale 2025\".\n",
    "\n",
    "#### 5. ESG (Ambiental, Social e Governança)\n",
    "- **Objetivo da Pesquisa**: Avaliar as práticas de sustentabilidade e responsabilidade social.\n",
    "- **Pergunta**: Quais são as iniciativas ESG da Vale em 2025?\n",
    "- **Raciocínio**: Procurar relatórios e notícias sobre práticas ESG.\n",
    "- **Termos de Pesquisa**: \"ESG Vale 2025\", \"Sustentabilidade Vale 2025\".\n",
    "\n",
    "#### 6. Inovação e Expansão\n",
    "- **Objetivo da Pesquisa**: Identificar inovações e expansões recentes.\n",
    "- **Pergunta**: A Vale lançou inovações ou expandiu em 2025?\n",
    "- **Raciocínio**: Buscar notícias sobre inovações e expansões.\n",
    "- **Termos de Pesquisa**: \"Inovação Vale 2025\", \"Expansão Vale 2025\".\n",
    "\n",
    "#### 7. Marca Empregadora e Cultura Organizacional\n",
    "- **Objetivo da Pesquisa**: Avaliar a percepção da Vale como empregadora.\n",
    "- **Pergunta**: A Vale é considerada um bom lugar para trabalhar em 2025?\n",
    "- **Raciocínio**: Procurar rankings e avaliações de clima organizacional.\n",
    "- **Termos de Pesquisa**: \"Trabalhar na Vale 2025\", \"Cultura organizacional Vale 2025\".\n",
    "\n",
    "#### 8. Responsabilidade com Clientes e Sociedade\n",
    "- **Objetivo da Pesquisa**: Avaliar a relação da Vale com clientes e sociedade.\n",
    "- **Pergunta**: Como a Vale é vista em termos de responsabilidade com clientes?\n",
    "- **Raciocínio**: Buscar avaliações de clientes e iniciativas sociais.\n",
    "- **Termos de Pesquisa**: \"Atendimento ao cliente Vale 2025\", \"Responsabilidade social Vale 2025\".\n",
    "\n",
    "Agora, vou repassar o planejameto de pesquisa ao agente pesquisador.\n",
    "\n",
    "\"\"\"\n",
    "\n",
    "prompt_agent_planner = ChatPromptTemplate.from_messages([\n",
    "    (\"system\", template),\n",
    "    (\"placeholder\", \"{messages}\"),\n",
    "])\n",
    "\n",
    "prompt_structure = ChatPromptTemplate.from_messages(\n",
    "    [\n",
    "        (\"system\", f\"\"\"Você é um algoritmo de classe mundial para extração de informações em formatos estruturados.\n",
    "                    Você extrai as informações da conversa a seguir e as organiza no formato de saída estruturado. Extraia as informações em no texto json.\n",
    "          \"\"\"),\n",
    "        (\"placeholder\", \"{messages}\")\n",
    "    ]\n",
    ")"
   ]
  },
  {
   "cell_type": "markdown",
   "id": "3c20b5af",
   "metadata": {},
   "source": [
    "#### Agent Planner State"
   ]
  },
  {
   "cell_type": "code",
   "execution_count": null,
   "id": "51334dbe",
   "metadata": {},
   "outputs": [],
   "source": [
    "from pydantic import BaseModel, Field\n",
    "from typing import Literal, List\n",
    "from langchain_core.tools import tool\n",
    "from langgraph.graph import MessagesState\n",
    "from typing_extensions import Annotated, TypedDict\n",
    "from langchain_core.output_parsers import PydanticToolsParser\n",
    "from langgraph.graph.message import add_messages\n",
    "\n",
    "\n",
    "class SearchPlan(TypedDict):\n",
    "    dimensao: Annotated[str,'Dimensao da pesquisa']\n",
    "    objetivo_de_pesquisa: Annotated[str,'Objetivo da pesquisa']\n",
    "    perguntas: Annotated[str,'Lista de perguntas orientadoras para a pesquisa']\n",
    "    raciocínio: Annotated[str,'Raciocínio por detrás da pesquisa']\n",
    "    termos_de_pesquisa: Annotated[str, \"Termos de pesquisa\"]\n",
    "\n",
    "class RoteiroPesquisa(TypedDict):\n",
    "    \"\"\"Roteiro para execução da pesquisa\"\"\"\n",
    "    planejamento_de_pesquisa: Annotated[list[SearchPlan], \"Lista com roteiro de pesquisa para avaliação reputacional da empresa\"]\n",
    "    identidade_empresa: Annotated[str, \"Principais informações e pontos cahves da identidade corporativa da empresa\"]\n",
    "\n",
    "class AgentStatePlanner(MessagesState):\n",
    "    # Final structured response from the agent\n",
    "    roteiro_pesquisa: Annotated[RoteiroPesquisa, \"Roteiro para a pesquisa\"]"
   ]
  },
  {
   "cell_type": "code",
   "execution_count": null,
   "id": "ef8c1313",
   "metadata": {},
   "outputs": [],
   "source": [
    "from langchain_openai import ChatOpenAI\n",
    "import dotenv\n",
    "import os\n",
    "\n",
    "dotenv.load_dotenv()\n",
    "\n",
    "OPENAI_API_KEY = os.getenv('OPENAI_API_KEY')\n",
    "\n",
    "\n",
    "llm = ChatOpenAI(model_name=\"gpt-4o\", temperature=0.3,openai_api_key=OPENAI_API_KEY)\n",
    "model_with_tool_planner = llm.bind_tools(tools_planner)\n",
    "model_with_structured_output_planner = llm.with_structured_output(RoteiroPesquisa)"
   ]
  },
  {
   "cell_type": "markdown",
   "id": "6c57f333",
   "metadata": {},
   "source": [
    "#### Agent Planner Graph"
   ]
  },
  {
   "cell_type": "code",
   "execution_count": null,
   "id": "02ac035d",
   "metadata": {},
   "outputs": [],
   "source": [
    "from langgraph.graph import StateGraph, END\n",
    "from langgraph.prebuilt import ToolNode\n",
    "from langchain_core.messages import HumanMessage\n",
    "from langgraph.checkpoint.memory import MemorySaver\n",
    "memory = MemorySaver()\n",
    "\n",
    "# Define the function that calls the model\n",
    "def call_model(state: AgentStatePlanner):\n",
    "    chain = prompt_agent_planner | model_with_tool_planner\n",
    "    response = chain.invoke(input={\"messages\":state['messages']})\n",
    "    # We return a list, because this will get added to the existing list\n",
    "    return {\"messages\": [response]}\n",
    "\n",
    "\n",
    "# Define the function that determines whether to continue or not\n",
    "def should_continue(state: AgentStatePlanner):\n",
    "    messages = state[\"messages\"]\n",
    "    last_message = messages[-1]\n",
    "    # If there is no function call, then we respond to the user\n",
    "    if not last_message.tool_calls:\n",
    "        return 'finish_plan'\n",
    "    # Otherwise if there is, we continue\n",
    "    else:\n",
    "        return \"continue\"\n",
    "    \n",
    "# Define the function that determines whether to continue or not\n",
    "def format_plan(state: AgentStatePlanner):\n",
    "    chain = prompt_structure | model_with_structured_output_planner\n",
    "    planejamento_de_pesquisa = chain.invoke(input={\"messages\":[HumanMessage(content=state[\"messages\"][-1].content)]})\n",
    "    # We return the final answer\n",
    "    return {'roteiro_pesquisa':planejamento_de_pesquisa}\n",
    "\n",
    "\n",
    "\n",
    "# Define a new graph\n",
    "workflow = StateGraph(AgentStatePlanner)\n",
    "\n",
    "# Define the two nodes we will cycle between\n",
    "workflow.add_node(\"agent_planner\", call_model)\n",
    "workflow.add_node(\"tools\", ToolNode(tools_planner))\n",
    "workflow.add_node(\"format_plan\", format_plan)\n",
    "# Set the entrypoint as `agent`\n",
    "# This means that this node is the first one called\n",
    "workflow.set_entry_point(\"agent_planner\")\n",
    "\n",
    "# We now add a conditional edge\n",
    "workflow.add_conditional_edges(\n",
    "    \"agent_planner\",\n",
    "    should_continue,\n",
    "    {\n",
    "        \"continue\": \"tools\",\n",
    "        'finish_plan': 'format_plan',\n",
    "    },\n",
    ")\n",
    "\n",
    "workflow.add_edge(\"tools\", \"agent_planner\")\n",
    "workflow.add_edge(\"format_plan\", END)\n",
    "\n",
    "graph = workflow.compile(checkpointer=memory)"
   ]
  },
  {
   "cell_type": "markdown",
   "id": "f340e2a7",
   "metadata": {},
   "source": [
    "#### Show graph"
   ]
  },
  {
   "cell_type": "code",
   "execution_count": 13,
   "id": "6fb14030",
   "metadata": {},
   "outputs": [
    {
     "data": {
      "image/png": "[encoded data removed]",
      "text/plain": [
       "<IPython.core.display.Image object>"
      ]
     },
     "metadata": {},
     "output_type": "display_data"
    }
   ],
   "source": [
    "from IPython.display import Image, display\n",
    "from langchain_core.runnables.graph import CurveStyle, MermaidDrawMethod, NodeStyles\n",
    "\n",
    "display(\n",
    "    Image(\n",
    "        graph.get_graph().draw_mermaid_png(\n",
    "            draw_method=MermaidDrawMethod.API,\n",
    "        )\n",
    "    )\n",
    ")"
   ]
  },
  {
   "cell_type": "code",
   "execution_count": 8,
   "id": "136a7590",
   "metadata": {},
   "outputs": [],
   "source": [
    "config = {\"configurable\": {\"thread_id\": \"1\"}}\n",
    "inputs={\"messages\":HumanMessage(\"Boticario\")}\n",
    "\n",
    "# events = graph.stream(\n",
    "#     input=inputs,\n",
    "#     config=config,\n",
    "#     stream_mode=\"values\",\n",
    "# )\n",
    "# for event in events:\n",
    "#     event[\"messages\"][-1].pretty_print()"
   ]
  },
  {
   "cell_type": "code",
   "execution_count": 9,
   "id": "463c8b0c",
   "metadata": {},
   "outputs": [],
   "source": [
    "answer = graph.invoke(input=inputs,config=config)"
   ]
  },
  {
   "cell_type": "code",
   "execution_count": 10,
   "id": "4c1867d3",
   "metadata": {},
   "outputs": [
    {
     "data": {
      "text/plain": [
       "{'identidade_empresa': 'O Boticário é uma das maiores empresas de cosméticos do Brasil, com um forte foco em inovação e sustentabilidade. A empresa tem se destacado por parcerias estratégicas, como a com o Cubo Itaú, para impulsionar a inovação no setor de beleza e varejo. Em 2024, o Grupo Boticário atingiu R$ 35,7 bilhões em vendas, com um crescimento de 19%. A empresa é reconhecida por suas práticas de diversidade e inclusão, além de ser a 2ª empresa mais admirada em dados na América Latina.',\n",
       " 'planejamento_de_pesquisa': [{'dimensao': 'Reputação Geral',\n",
       "   'objetivo_de_pesquisa': 'Avaliar como o Boticário é mencionado na mídia e se há reconhecimento positivo.',\n",
       "   'perguntas': 'O Boticário é mencionado de forma positiva na mídia em 2025?',\n",
       "   'raciocínio': 'Procurar menções positivas ou prêmios recentes.',\n",
       "   'termos_de_pesquisa': 'Boticário reconhecimento 2025, Boticário prêmios 2025'},\n",
       "  {'dimensao': 'Ética e Escândalos',\n",
       "   'objetivo_de_pesquisa': 'Identificar envolvimentos em escândalos ou denúncias recentes.',\n",
       "   'perguntas': 'O Boticário esteve envolvido em escândalos ou denúncias em 2025 ou no passado?',\n",
       "   'raciocínio': 'Buscar notícias sobre escândalos ou investigações.',\n",
       "   'termos_de_pesquisa': 'Boticário escândalo 2025, Boticário denúncia 2025, Boticário escândalo histórico'},\n",
       "  {'dimensao': 'Liderança e Governança',\n",
       "   'objetivo_de_pesquisa': 'Avaliar a percepção da liderança e práticas de governança.',\n",
       "   'perguntas': 'Como a liderança do Boticário é percebida em 2025?',\n",
       "   'raciocínio': 'Procurar avaliações sobre a liderança e práticas de governança.',\n",
       "   'termos_de_pesquisa': 'Liderança Boticário 2025, Governança Boticário 2025'},\n",
       "  {'dimensao': 'Performance Financeira e Crescimento',\n",
       "   'objetivo_de_pesquisa': 'Verificar o desempenho financeiro recente.',\n",
       "   'perguntas': 'O Boticário apresentou bons resultados financeiros em 2025?',\n",
       "   'raciocínio': 'Buscar relatórios financeiros e análises de desempenho.',\n",
       "   'termos_de_pesquisa': 'Resultados financeiros Boticário 2025, Crescimento Boticário 2025'},\n",
       "  {'dimensao': 'ESG (Ambiental, Social e Governança)',\n",
       "   'objetivo_de_pesquisa': 'Avaliar as práticas de sustentabilidade e responsabilidade social.',\n",
       "   'perguntas': 'Quais são as iniciativas ESG do Boticário em 2025?',\n",
       "   'raciocínio': 'Procurar relatórios e notícias sobre práticas ESG.',\n",
       "   'termos_de_pesquisa': 'ESG Boticário 2025, Sustentabilidade Boticário 2025'},\n",
       "  {'dimensao': 'Inovação e Expansão',\n",
       "   'objetivo_de_pesquisa': 'Identificar inovações e expansões recentes.',\n",
       "   'perguntas': 'O Boticário lançou inovações ou expandiu em 2025?',\n",
       "   'raciocínio': 'Buscar notícias sobre inovações e expansões.',\n",
       "   'termos_de_pesquisa': 'Inovação Boticário 2025, Expansão Boticário 2025'},\n",
       "  {'dimensao': 'Marca Empregadora e Cultura Organizacional',\n",
       "   'objetivo_de_pesquisa': 'Avaliar a percepção do Boticário como empregadora.',\n",
       "   'perguntas': 'O Boticário é considerado um bom lugar para trabalhar em 2025?',\n",
       "   'raciocínio': 'Procurar rankings e avaliações de clima organizacional.',\n",
       "   'termos_de_pesquisa': 'Trabalhar no Boticário 2025, Cultura organizacional Boticário 2025'},\n",
       "  {'dimensao': 'Responsabilidade com Clientes e Sociedade',\n",
       "   'objetivo_de_pesquisa': 'Avaliar a relação do Boticário com clientes e sociedade.',\n",
       "   'perguntas': 'Como o Boticário é visto em termos de responsabilidade com clientes?',\n",
       "   'raciocínio': 'Buscar avaliações de clientes e iniciativas sociais.',\n",
       "   'termos_de_pesquisa': 'Atendimento ao cliente Boticário 2025, Responsabilidade social Boticário 2025'}]}"
      ]
     },
     "execution_count": 10,
     "metadata": {},
     "output_type": "execute_result"
    }
   ],
   "source": [
    "answer['roteiro_pesquisa']"
   ]
  },
  {
   "cell_type": "markdown",
   "id": "14f67baa",
   "metadata": {},
   "source": [
    "### Agent 2 - Reseacher Agent"
   ]
  },
  {
   "cell_type": "markdown",
   "id": "66f1d839",
   "metadata": {},
   "source": [
    "#### Tools"
   ]
  },
  {
   "cell_type": "code",
   "execution_count": null,
   "id": "bf398317",
   "metadata": {},
   "outputs": [],
   "source": [
    "from langchain_core.tools import tool\n",
    "\n",
    "@tool(response_format=\"content_and_artifact\")\n",
    "def news_search_tool(query: str):\n",
    "    \"\"\"A search engine optimized for comprehensive, accurate, and trusted results. \n",
    "    Useful for when you need to answer questions about current events. \n",
    "    Input should be a search query.\"\"\"\n",
    "    client = TavilyClient(TAVILY_API_KEY)\n",
    "\n",
    "    response = client.search(query=query,search_depth='advanced',max_results=10,topic='news')\n",
    "    \n",
    "    serialized = f\"Termos de busca: {query} \\n\" f\"Resultado de Busca: {response}\"\n",
    "    \n",
    "    return serialized, response\n",
    "\n",
    "tools_researcher = [news_search_tool]"
   ]
  },
  {
   "cell_type": "markdown",
   "id": "a527fd61",
   "metadata": {},
   "source": [
    "#### Researcher Agent Prompt"
   ]
  },
  {
   "cell_type": "code",
   "execution_count": null,
   "id": "9d41f1f0",
   "metadata": {},
   "outputs": [],
   "source": [
    "template_researcher = \"\"\"\n",
    "Você é um especialista em pesquisas na web. \n",
    "\n",
    "\"\"\"\n",
    "\n",
    "prompt_agent_researcher = ChatPromptTemplate.from_messages([\n",
    "    (\"system\", template_researcher),\n",
    "    (\"placeholder\", \"{messages}\"),\n",
    "])\n"
   ]
  },
  {
   "cell_type": "markdown",
   "id": "19effa00",
   "metadata": {},
   "source": [
    "#### Researcher Agent State"
   ]
  },
  {
   "cell_type": "markdown",
   "id": "be85bbbf",
   "metadata": {},
   "source": []
  },
  {
   "cell_type": "markdown",
   "id": "299f510a",
   "metadata": {},
   "source": [
    "#### Researcher Agent Graph"
   ]
  },
  {
   "cell_type": "markdown",
   "id": "d4181fd3",
   "metadata": {},
   "source": []
  }
 ],
 "metadata": {
  "kernelspec": {
   "display_name": "myenv",
   "language": "python",
   "name": "python3"
  },
  "language_info": {
   "codemirror_mode": {
    "name": "ipython",
    "version": 3
   },
   "file_extension": ".py",
   "mimetype": "text/x-python",
   "name": "python",
   "nbconvert_exporter": "python",
   "pygments_lexer": "ipython3",
   "version": "3.11.3"
  }
 },
 "nbformat": 4,
 "nbformat_minor": 5
}
